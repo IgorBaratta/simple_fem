{
  "nbformat": 4,
  "nbformat_minor": 0,
  "metadata": {
    "colab": {
      "name": "Untitled1.ipynb",
      "provenance": [],
      "authorship_tag": "ABX9TyNlh6g1yc5Oa+dCvuLbu5dE",
      "include_colab_link": true
    },
    "kernelspec": {
      "name": "python3",
      "display_name": "Python 3"
    }
  },
  "cells": [
    {
      "cell_type": "markdown",
      "metadata": {
        "id": "view-in-github",
        "colab_type": "text"
      },
      "source": [
        "<a href=\"https://colab.research.google.com/github/IgorBaratta/simple_fem/blob/master/demo/Poisson.ipynb\" target=\"_parent\"><img src=\"https://colab.research.google.com/assets/colab-badge.svg\" alt=\"Open In Colab\"/></a>"
      ]
    },
    {
      "cell_type": "code",
      "metadata": {
        "id": "wsede9XWfrpb",
        "colab_type": "code",
        "colab": {}
      },
      "source": [
        "pip install git+https://github.com/IgorBaratta/simple_fem.git"
      ],
      "execution_count": 0,
      "outputs": []
    },
    {
      "cell_type": "markdown",
      "metadata": {
        "id": "NrPwFyxocnEa",
        "colab_type": "text"
      },
      "source": [
        "Problem definition:\n",
        "\n",
        "$$- \\nabla^2 u = f \\quad \\text{in} \\quad \\Omega $$\n",
        "$$   u = 0 \\quad \\text{in} \\quad \\partial \\Omega $$\n",
        "\n",
        "---\n",
        "\n",
        "\n",
        "Where $\\Omega:= (0, 1) \\times (0, 1)$ and $f = 4 (-y^2 + y ) sin (\\pi x)$\n"
      ]
    },
    {
      "cell_type": "code",
      "metadata": {
        "id": "_FLlX8fVateV",
        "colab_type": "code",
        "colab": {}
      },
      "source": [
        "import numpy\n",
        "from simple_fem import *\n",
        "from scipy.sparse.linalg import spsolve\n",
        "from simple_fem.assemble import assemble_matrix, assemble_vector, apply_bc\n",
        "\n",
        "# define computational domain - Unit Square\n",
        "mesh = Mesh(25, 20)\n",
        "plot(mesh)"
      ],
      "execution_count": 0,
      "outputs": []
    },
    {
      "cell_type": "markdown",
      "metadata": {
        "id": "xK7TOxzrhNvN",
        "colab_type": "text"
      },
      "source": [
        "The problem can be rewritten using the finite element framework. \n",
        "\n",
        "Find $u_h \\in Q$ such that:\n",
        "\n",
        "$$\\int_\\Omega \\nabla u_h \\cdot \\nabla v = \\int fv $$\n",
        "\n",
        "We first define the discrete function space:\n"
      ]
    },
    {
      "cell_type": "code",
      "metadata": {
        "id": "YJFBnBi6b940",
        "colab_type": "code",
        "colab": {}
      },
      "source": [
        "# Define element and function space\n",
        "element = Q1Element()\n",
        "Q = FunctionSpace(mesh, element)\n",
        "\n",
        "print(\"Number of dofs per element: \", element.num_dofs)"
      ],
      "execution_count": 0,
      "outputs": []
    },
    {
      "cell_type": "markdown",
      "metadata": {
        "id": "R3t6mvtYervP",
        "colab_type": "text"
      },
      "source": [
        "The source term $f = 4 (-y^2 + y ) sin (\\pi x)$ can be represented by a lambda function. To assemble the linear form $$b_i = \\int_{\\Omega} f \\hat{\\phi}_i$$ we then call `assemble_vector`:\n"
      ]
    },
    {
      "cell_type": "code",
      "metadata": {
        "id": "mxScaNrDfHXS",
        "colab_type": "code",
        "colab": {}
      },
      "source": [
        "f = lambda x : 4*(-x[1]**2 + x[1])*numpy.sin(numpy.pi*x[0])\n",
        "b = assemble_vector(Q, f)"
      ],
      "execution_count": 0,
      "outputs": []
    },
    {
      "cell_type": "markdown",
      "metadata": {
        "id": "yMov8vN5jYFR",
        "colab_type": "text"
      },
      "source": [
        "Likewise we can assemble the bilinear form $$A_{ij} = \\int_\\Omega \\nabla \\phi_j \\cdot \\nabla \\phi_i \\, dx$$\n",
        "\n",
        "by calling the `assemble_matrix` function with the `matrix_type` set to \"stiffness\":\n"
      ]
    },
    {
      "cell_type": "code",
      "metadata": {
        "id": "Y5kJv-NvfZdu",
        "colab_type": "code",
        "colab": {}
      },
      "source": [
        "A = assemble_matrix(Q, matrix_type=\"stiffness\")"
      ],
      "execution_count": 0,
      "outputs": []
    },
    {
      "cell_type": "code",
      "metadata": {
        "id": "bEROHB6QkoVc",
        "colab_type": "code",
        "colab": {}
      },
      "source": [
        "# Finally we can apply Dirichlet boundary conditions\n",
        "# and call a sparse linear solver from scipy, for example spsolve:\n",
        "\n",
        "dofs = Q.locate_boundary_dofs()\n",
        "apply_bc(A, b, dofs, value=0)\n",
        "x = spsolve(A, b)\n",
        "\n",
        "plot(mesh, x)"
      ],
      "execution_count": 0,
      "outputs": []
    }
  ]
}